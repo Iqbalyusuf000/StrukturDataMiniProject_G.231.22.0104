{
  "nbformat": 4,
  "nbformat_minor": 0,
  "metadata": {
    "colab": {
      "provenance": []
    },
    "kernelspec": {
      "name": "python3",
      "display_name": "Python 3"
    },
    "language_info": {
      "name": "python"
    }
  },
  "cells": [
    {
      "cell_type": "markdown",
      "source": [
        "**Algoritma Pangram**"
      ],
      "metadata": {
        "id": "A7d3B8rthOib"
      }
    },
    {
      "cell_type": "code",
      "source": [
        "def is_pangram(s):\n",
        "    # Inisialisasi array mark[] dengan False (0) untuk semua indeks\n",
        "    mark = [False] * 26\n",
        "\n",
        "    # Ulangi semua karakter dalam string\n",
        "    for char in s:\n",
        "        # Ubah huruf besar menjadi huruf kecil\n",
        "        char = char.lower()\n",
        "        # Jika karakter adalah huruf alfabet, tandai indeks yang sesuai di mark[] sebagai True (1)\n",
        "        if char.isalpha():\n",
        "            mark[ord(char) - ord('a')] = True\n",
        "\n",
        "    # Periksa apakah semua indeks di mark[] ditandai (True)\n",
        "    if all(mark):\n",
        "        return True\n",
        "    else:\n",
        "        return False\n",
        "\n",
        "# Contoh penggunaan\n",
        "input_string = \"Juru cakap Qatar giat membawa vas, xilofon, dan zirahnya\"\n",
        "result = is_pangram(input_string)\n",
        "if result:\n",
        "    print(\"String adalah pangram.\")\n",
        "else:\n",
        "    print(\"String bukan pangram.\")"
      ],
      "metadata": {
        "colab": {
          "base_uri": "https://localhost:8080/"
        },
        "id": "hSenYMOzgYih",
        "outputId": "954311cf-156d-4ded-d784-7b0e5781958b"
      },
      "execution_count": 8,
      "outputs": [
        {
          "output_type": "stream",
          "name": "stdout",
          "text": [
            "String adalah pangram.\n"
          ]
        }
      ]
    },
    {
      "cell_type": "markdown",
      "source": [
        "**Soal Nomor 2**"
      ],
      "metadata": {
        "id": "bfqb8CJZhS0K"
      }
    },
    {
      "cell_type": "code",
      "execution_count": 11,
      "metadata": {
        "colab": {
          "base_uri": "https://localhost:8080/"
        },
        "id": "NiM--n81XaYJ",
        "outputId": "ac4eae91-0491-42a9-e360-9951ec8b5481"
      },
      "outputs": [
        {
          "output_type": "stream",
          "name": "stdout",
          "text": [
            "\"Wibowo naik vespa dari Roxy ke Islamic Center Jakarta ikut program tahfizh Al Quran\"\n",
            "\n",
            "is a pangram\n"
          ]
        }
      ],
      "source": [
        "# Sebuah program phyton mengecek string ini termasuk pangram atau tidak\n",
        "\n",
        "def cek_pangram(r):\n",
        "  List = []\n",
        "# membuat list dari 26 karakter dan menetapkan \"false\" di tiap entry\n",
        "  for i in range(26):\n",
        "    List.append(False)\n",
        "\n",
        "  # mengubah kalimat ke huruf kecil dan mengulanginya kepada seluruh kalimat\n",
        "  for a in r.lower():\n",
        "    if not a == \" \":\n",
        "\n",
        "      # membuat korespondensi entry \"True\"\n",
        "      List [ord(a) - ord('a')] = True\n",
        "\n",
        "  # mengecek jika tiap karakternya hilang kemudian kembali ke False\n",
        "  for ch in List:\n",
        "    if ch == False:\n",
        "      return False\n",
        "  return True\n",
        "\n",
        "# Driver Program to test above functions\n",
        "kalimat = \"Wibowo naik vespa dari Roxy ke Islamic Center Jakarta ikut program tahfizh Al Quran\"\n",
        "\n",
        "if(cek_pangram(kalimat)):\n",
        "  print('\"'+kalimat+'\"')\n",
        "  print(\"\\nis a pangram\")\n",
        "else:\n",
        "  print('\"'+kalimat+'\"')\n",
        "  print(\"\\nis not a pangram\")"
      ]
    }
  ]
}