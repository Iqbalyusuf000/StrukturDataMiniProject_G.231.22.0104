{
  "nbformat": 4,
  "nbformat_minor": 0,
  "metadata": {
    "colab": {
      "provenance": []
    },
    "kernelspec": {
      "name": "python3",
      "display_name": "Python 3"
    },
    "language_info": {
      "name": "python"
    }
  },
  "cells": [
    {
      "cell_type": "code",
      "source": [
        "def convert (s):\n",
        "  new = \"\"\n",
        "  for x in s:\n",
        "    new += x\n",
        "\n",
        "  return new\n",
        "\n",
        "#driver code\n",
        "s = ['g','e','e','k','s','f','o','r','g','e','e','k','s']\n",
        "print(convert(s))"
      ],
      "metadata": {
        "colab": {
          "base_uri": "https://localhost:8080/"
        },
        "id": "miUIR1xVRHgq",
        "outputId": "8af3b3af-631f-4593-9ac6-3f1b662da737"
      },
      "execution_count": 2,
      "outputs": [
        {
          "output_type": "stream",
          "name": "stdout",
          "text": [
            "geeksforgeeks\n"
          ]
        }
      ]
    },
    {
      "cell_type": "code",
      "execution_count": null,
      "metadata": {
        "colab": {
          "base_uri": "https://localhost:8080/"
        },
        "id": "PJLww0SJfify",
        "outputId": "ec764b61-ff30-4065-8982-bf16149bebb1"
      },
      "outputs": [
        {
          "output_type": "stream",
          "name": "stdout",
          "text": [
            "programming\n"
          ]
        }
      ],
      "source": [
        "def input(a):\n",
        "  new = \"\"\n",
        "  for b in a:\n",
        "    new += b\n",
        "\n",
        "  return new\n",
        "\n",
        "# code\n",
        "a = ['p','r','o','g','r','a','m','m','i','n','g']\n",
        "\n",
        "print(input(a))"
      ]
    }
  ]
}