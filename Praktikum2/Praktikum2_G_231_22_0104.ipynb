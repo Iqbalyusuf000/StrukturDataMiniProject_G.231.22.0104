{
  "nbformat": 4,
  "nbformat_minor": 0,
  "metadata": {
    "colab": {
      "provenance": []
    },
    "kernelspec": {
      "name": "python3",
      "display_name": "Python 3"
    },
    "language_info": {
      "name": "python"
    }
  },
  "cells": [
    {
      "cell_type": "code",
      "source": [
        "\"\"\"Selection Sort\"\"\"\n",
        "def pilihan_urutan(alist):\n",
        "  for gap in range(0,len(alist)-1):\n",
        "    posisi=gap\n",
        "    for point in range(gap+1,len(alist)):\n",
        "      if alist[point]<alist[posisi]:\n",
        "        posisi = point\n",
        "\n",
        "    temp = alist[gap]\n",
        "    alist[gap] = alist[posisi]\n",
        "    alist[posisi] = temp\n",
        "    print(alist)\n",
        "number = [7,4,2,6,1,12,5,9]\n",
        "pilihan_urutan(number)\n",
        "print(number)"
      ],
      "metadata": {
        "id": "UKRVUhObhMTC",
        "colab": {
          "base_uri": "https://localhost:8080/"
        },
        "outputId": "f6af1853-22b9-46dd-ae95-e8a94e8af432"
      },
      "execution_count": null,
      "outputs": [
        {
          "output_type": "stream",
          "name": "stdout",
          "text": [
            "[1, 4, 2, 6, 7, 12, 5, 9]\n",
            "[1, 2, 4, 6, 7, 12, 5, 9]\n",
            "[1, 2, 4, 6, 7, 12, 5, 9]\n",
            "[1, 2, 4, 5, 7, 12, 6, 9]\n",
            "[1, 2, 4, 5, 6, 12, 7, 9]\n",
            "[1, 2, 4, 5, 6, 7, 12, 9]\n",
            "[1, 2, 4, 5, 6, 7, 9, 12]\n",
            "[1, 2, 4, 5, 6, 7, 9, 12]\n"
          ]
        }
      ]
    },
    {
      "cell_type": "code",
      "source": [
        "\"\"\"TUPLE\"\"\"\n",
        "# variabel\n",
        "tup1 = ('Joko','Semarang',1980,'Wiraswasta')\n",
        "tup2 = ('Veronika','Papua Barat',1995,'Pegawai Negeri')\n",
        "tup3 = ('Ahmad','Aceh',2005,'Pelajar')\n",
        "tup4 = ('a','b','c')\n",
        "tup5 = (1,2,3)\n",
        "\n",
        "# penjumlahan\n",
        "print(tup4 + tup5)\n",
        "\n",
        "# menghitung jumlah data\n",
        "print(len(tup4))\n",
        "\n",
        "# mengkalikan variabel\n",
        "print(tup4 * 2)\n",
        "\n",
        "# mencari data termasuk di dalam variabel atau tidak\n",
        "print(5 in (tup5))\n",
        "\n",
        "print ('Nama',tup1[0],'lahir di',tup1[1],'tahun',tup1[2],'pekerjaan',tup1[3],'.')\n",
        "print (tup2[1:3]) #hasil print pada indeks 1-2, bagian 3 tidak dihasilkan"
      ],
      "metadata": {
        "id": "P8VOFDa3hMpB",
        "colab": {
          "base_uri": "https://localhost:8080/"
        },
        "outputId": "6aa77d68-7117-4739-8ce1-822cc8a5c176"
      },
      "execution_count": null,
      "outputs": [
        {
          "output_type": "stream",
          "name": "stdout",
          "text": [
            "('a', 'b', 'c', 1, 2, 3)\n",
            "3\n",
            "('a', 'b', 'c', 'a', 'b', 'c')\n",
            "False\n",
            "Nama Joko lahir di Semarang tahun 1980 pekerjaan Wiraswasta .\n",
            "('Papua Barat', 1995)\n"
          ]
        }
      ]
    },
    {
      "cell_type": "code",
      "source": [
        "\"\"\"DICTIONARY\"\"\"\n",
        "dict1 = {'fname': 'Iqbal','lname': 'Yusuf','age' : 17,'kelas': 'Teknik Informatika', 'mata_kuliah': 'Struktur Data' }\n",
        "dict2 = {'name': 'avanza', 'merk': 'toyota', 'warna': 'silver', 'type':'G'}\n",
        "all_kunci1 = dict1.keys()\n",
        "all_nilai2 = dict2.values()\n",
        "\n",
        "for kunci, nilai in dict1.items():\n",
        "  print(kunci, \":\", nilai,)\n",
        "\n",
        "print('\\nFullname :',dict1['fname'],dict1['lname'])\n",
        "print('\\nMobil saya adalah',dict2['name'],'dan bermerk',dict2['merk'],'.','Warnanya',dict2['warna'],'serta bertipe',dict2['type'])"
      ],
      "metadata": {
        "id": "6qTp-xSwgqvL",
        "colab": {
          "base_uri": "https://localhost:8080/"
        },
        "outputId": "aa78b889-3c8a-4e44-8351-a8e0c6b79a2e"
      },
      "execution_count": 54,
      "outputs": [
        {
          "output_type": "stream",
          "name": "stdout",
          "text": [
            "fname : Iqbal\n",
            "lname : Yusuf\n",
            "age : 17\n",
            "kelas : Teknik Informatika\n",
            "mata_kuliah : Struktur Data\n",
            "\n",
            "Fullname : Iqbal Yusuf\n",
            "\n",
            "Mobil saya adalah avanza dan bermerk toyota . Warnanya silver serta bertipe G\n"
          ]
        }
      ]
    },
    {
      "cell_type": "code",
      "source": [],
      "metadata": {
        "id": "fqUwdLIRs4ij"
      },
      "execution_count": null,
      "outputs": []
    }
  ]
}