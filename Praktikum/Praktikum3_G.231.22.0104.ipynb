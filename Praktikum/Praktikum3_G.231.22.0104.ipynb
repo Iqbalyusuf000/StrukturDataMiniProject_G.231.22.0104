{
  "nbformat": 4,
  "nbformat_minor": 0,
  "metadata": {
    "colab": {
      "provenance": []
    },
    "kernelspec": {
      "name": "python3",
      "display_name": "Python 3"
    },
    "language_info": {
      "name": "python"
    }
  },
  "cells": [
    {
      "cell_type": "code",
      "execution_count": 2,
      "metadata": {
        "colab": {
          "base_uri": "https://localhost:8080/"
        },
        "id": "PJLww0SJfify",
        "outputId": "ec764b61-ff30-4065-8982-bf16149bebb1"
      },
      "outputs": [
        {
          "output_type": "stream",
          "name": "stdout",
          "text": [
            "programming\n"
          ]
        }
      ],
      "source": [
        "def input(a):\n",
        "  new = \"\"\n",
        "  for b in a:\n",
        "    new += b\n",
        "\n",
        "  return new\n",
        "\n",
        "# code driver\n",
        "a = ['p','r','o','g','r','a','m','m','i','n','g']\n",
        "\n",
        "print(input(a))"
      ]
    },
    {
      "cell_type": "code",
      "source": [],
      "metadata": {
        "id": "9_ihEEq4gHTG"
      },
      "execution_count": null,
      "outputs": []
    }
  ]
}