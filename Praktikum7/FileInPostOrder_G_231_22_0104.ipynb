{
  "nbformat": 4,
  "nbformat_minor": 0,
  "metadata": {
    "colab": {
      "provenance": []
    },
    "kernelspec": {
      "name": "python3",
      "display_name": "Python 3"
    },
    "language_info": {
      "name": "python"
    }
  },
  "cells": [
    {
      "cell_type": "code",
      "execution_count": 3,
      "metadata": {
        "colab": {
          "base_uri": "https://localhost:8080/"
        },
        "id": "54aDmd6YuB87",
        "outputId": "be0d166a-07dd-441d-8c53-159d49d7243e"
      },
      "outputs": [
        {
          "output_type": "stream",
          "name": "stdout",
          "text": [
            "Postorder traversal of binary tree is\n",
            "4\n",
            "5\n",
            "2\n",
            "3\n",
            "1\n"
          ]
        }
      ],
      "source": [
        "# Phyton 3 program to for tree travelers Postorder\n",
        "class Node:\n",
        "  def __init__(self, key):\n",
        "    self.left = None\n",
        "    self.right = None\n",
        "    self.val = key\n",
        "\n",
        "# A function to do postorder tree traversal\n",
        "def printPostorder(root):\n",
        "\n",
        "  if root:\n",
        "\n",
        "    # First recur on left child\n",
        "    printPostorder(root.left),\n",
        "\n",
        "    # then print the data of node\n",
        "    printPostorder(root.right),\n",
        "\n",
        "    # now recur on right child\n",
        "    print(root.val)\n",
        "\n",
        "# Driver code\n",
        "if __name__ == \"__main__\":\n",
        "  root = Node(1)\n",
        "  root.left = Node(2)\n",
        "  root.right = Node(3)\n",
        "  root.left.left = Node(4)\n",
        "  root.left.right = Node(5)\n",
        "\n",
        "  # Function call\n",
        "  print (\"Postorder traversal of binary tree is\")\n",
        "  printPostorder(root)"
      ]
    },
    {
      "cell_type": "code",
      "source": [],
      "metadata": {
        "id": "3op5udG_upGi"
      },
      "execution_count": null,
      "outputs": []
    }
  ]
}