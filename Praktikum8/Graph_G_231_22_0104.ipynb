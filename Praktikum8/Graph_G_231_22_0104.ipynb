{
  "nbformat": 4,
  "nbformat_minor": 0,
  "metadata": {
    "colab": {
      "provenance": []
    },
    "kernelspec": {
      "name": "python3",
      "display_name": "Python 3"
    },
    "language_info": {
      "name": "python"
    }
  },
  "cells": [
    {
      "cell_type": "markdown",
      "source": [
        "### E. Dijkstra Shortest Path 3"
      ],
      "metadata": {
        "id": "-fDIW8YXPbjN"
      }
    },
    {
      "cell_type": "code",
      "source": [
        "#memasukkan struktur data \"heapq\" untuk binary tree\n",
        "import heapq\n",
        "\n",
        "# membuat class graph\n",
        "class Graph:\n",
        "    # membuat def init untuk menghasilkan jumlah node\n",
        "    def __init__(self, x):\n",
        "        self.x = x\n",
        "        self.adj = [[] for _ in range(x)]\n",
        "\n",
        "    # membuat edge dengan u sebagai asal, v sebagai tujuan, dan w sebagai nilai edge\n",
        "    def TambahEdge(self, u, v, w):\n",
        "        self.adj[u].append((v, w))\n",
        "        self.adj[v].append((u, w))\n",
        "\n",
        "    # membuat graph path dengan jarak terpendek\n",
        "    def jarakTerpendek(self, src):\n",
        "        # Membuat prioritas dari queue untuk menyimpan vertice yang sedang diproses\n",
        "        pq = [(0, src)]\n",
        "\n",
        "        # membuat list untuk jarak dan menginisiasi seluruh jarak sebagai tak terbatas\n",
        "        dist = [float('inf')] * self.x\n",
        "        dist[src] = 0\n",
        "\n",
        "        # Melakukan pengulangan sampai seluruh jarak terpendek sudah dihasilkan\n",
        "        while pq:\n",
        "            # Vertex pertama dalam prioritas queue adalah jarak minimum vertex\n",
        "            d, u = heapq.heappop(pq)\n",
        "\n",
        "            # Memproses vertex jika vertex belum diproses\n",
        "            if d > dist[u]:\n",
        "                continue\n",
        "\n",
        "            # Iterasi melewati seluruh adjacency (daftar tetangga) vertice dari 'u'\n",
        "            for v, weight in self.adj[u]:\n",
        "                # Jika terdapat jarak lebih pendek ke 'v' melewati 'u'\n",
        "                if dist[v] > dist[u] + weight:\n",
        "                    # Mengupdate jarak dari 'u'\n",
        "                    dist[v] = dist[u] + weight\n",
        "                    heapq.heappush(pq, (dist[v], v))\n",
        "\n",
        "        # Jarak terpendek yang dihasilkan disimpan di dist[]\n",
        "        print(\"Vertex   Distance from Source\")\n",
        "        for i in range(self.x):\n",
        "            print(f\"{i} \\t\\t {dist[i]}\")\n",
        "\n",
        "# Mengetes dari Graph Class\n",
        "if __name__ == \"__main__\":\n",
        "    # Membuat jumlah dari graph (disini kita buat 9, dari 0-8)\n",
        "    x = 9\n",
        "    g = Graph(x)\n",
        "\n",
        "    # membuat nilai dari node dari asal, tujuan, dan nilai jaraknya\n",
        "    g.TambahEdge(0, 1, 4)\n",
        "    g.TambahEdge(0, 6, 7)\n",
        "    g.TambahEdge(1, 2, 9)\n",
        "    g.TambahEdge(1, 7, 20)\n",
        "    g.TambahEdge(1, 6, 11)\n",
        "    g.TambahEdge(2, 3, 6)\n",
        "    g.TambahEdge(2, 4, 2)\n",
        "    g.TambahEdge(3, 4, 10)\n",
        "    g.TambahEdge(3, 5, 5)\n",
        "    g.TambahEdge(4, 5, 15)\n",
        "    g.TambahEdge(4, 7, 1)\n",
        "    g.TambahEdge(4, 8, 5)\n",
        "    g.TambahEdge(5, 8, 12)\n",
        "    g.TambahEdge(6, 7, 1)\n",
        "    g.TambahEdge(7, 8, 3)\n",
        "\n",
        "    g.jarakTerpendek(0)"
      ],
      "metadata": {
        "colab": {
          "base_uri": "https://localhost:8080/"
        },
        "id": "4NQxo4PQ0wnK",
        "outputId": "34ac958b-0ceb-41e5-cb8e-392ea5ab7f78"
      },
      "execution_count": 17,
      "outputs": [
        {
          "output_type": "stream",
          "name": "stdout",
          "text": [
            "Vertex   Distance from Source\n",
            "0 \t\t 0\n",
            "1 \t\t 4\n",
            "2 \t\t 11\n",
            "3 \t\t 17\n",
            "4 \t\t 9\n",
            "5 \t\t 22\n",
            "6 \t\t 7\n",
            "7 \t\t 8\n",
            "8 \t\t 11\n"
          ]
        }
      ]
    }
  ]
}