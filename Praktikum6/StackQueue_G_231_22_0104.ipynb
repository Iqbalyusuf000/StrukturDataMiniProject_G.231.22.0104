{
  "nbformat": 4,
  "nbformat_minor": 0,
  "metadata": {
    "colab": {
      "provenance": []
    },
    "kernelspec": {
      "name": "python3",
      "display_name": "Python 3"
    },
    "language_info": {
      "name": "python"
    }
  },
  "cells": [
    {
      "cell_type": "markdown",
      "source": [
        "**ANTRIAN**"
      ],
      "metadata": {
        "id": "ngVN4j6SB_oi"
      }
    },
    {
      "cell_type": "code",
      "execution_count": 1,
      "metadata": {
        "colab": {
          "base_uri": "https://localhost:8080/"
        },
        "id": "PMsTUxrl33Ku",
        "outputId": "8bc22bd0-330f-4dc2-908d-4fafca263ddc"
      },
      "outputs": [
        {
          "output_type": "stream",
          "name": "stdout",
          "text": [
            "deque(['Asif', 'Ram', 'Tarun', 'John'])\n",
            "deque(['Asif', 'Ram', 'Tarun', 'John', 'Akbar'])\n",
            "deque(['Asif', 'Ram', 'Tarun', 'John', 'Akbar', 'Birbal'])\n",
            "Asif\n",
            "Ram\n",
            "deque(['Tarun', 'John', 'Akbar', 'Birbal'])\n"
          ]
        }
      ],
      "source": [
        "from collections import deque # memasukkan \"deque\" dari library collections\n",
        "queue = deque({\"Ram\",\"Tarun\",\"Asif\",\"John\"}) # mengganti nama deque menjadi queue dan memasukkan dictionary\n",
        "print(queue) # mencetak queue\n",
        "queue.append(\"Akbar\") # menambahkan \"akbar\" ke dalam antrian\n",
        "print(queue) # mencetak queue setelah menambahkan akbar\n",
        "queue.append(\"Birbal\") # menambahkan \"birbal\" ke dalam antrian\n",
        "print(queue) # mencetak queue setelah menambahkan birbal\n",
        "print(queue.popleft()) # menghapus & mengembalikan elemen pertama (dari sisi kiri) yaitu Asif\n",
        "print(queue.popleft()) # menghapus & mengembalikan elemen setelah asif dihapus (dari sisi kiri) yaitu Ram\n",
        "print(queue) # mencetak queue setelah menghapus asif dan ram"
      ]
    },
    {
      "cell_type": "markdown",
      "source": [
        "**TOWER HAHOI**"
      ],
      "metadata": {
        "id": "OZFDW79eDBVg"
      }
    },
    {
      "cell_type": "code",
      "source": [
        "def TowerOfHanoi (n, dr, menuju, bantuan): # membuat defisini Tower Of Hanoi\n",
        "  if n == 0:\n",
        "    return\n",
        "  TowerOfHanoi (n-1, dr, bantuan, menuju)\n",
        "  print(\"Pindah disk\", n, \"dari\", dr, \"ke\", menuju)\n",
        "  TowerOfHanoi (n-1, bantuan, dr, menuju)\n",
        "\n",
        "# Driver Code (banyaknya kotak bertumpuk)\n",
        "N = 3\n",
        "\n",
        "# A, C, B adalah nama dari tongkatnya\n",
        "TowerOfHanoi (N, 'A', 'C', 'B')"
      ],
      "metadata": {
        "colab": {
          "base_uri": "https://localhost:8080/"
        },
        "id": "OeKWNFYMDEGX",
        "outputId": "35dc29c5-4030-4e87-c5b3-cc2b7e84fb7a"
      },
      "execution_count": 10,
      "outputs": [
        {
          "output_type": "stream",
          "name": "stdout",
          "text": [
            "Pindah disk 1 dari A ke C\n",
            "Pindah disk 2 dari A ke B\n",
            "Pindah disk 1 dari C ke A\n",
            "Pindah disk 3 dari A ke C\n",
            "Pindah disk 1 dari B ke C\n",
            "Pindah disk 2 dari B ke A\n",
            "Pindah disk 1 dari C ke B\n"
          ]
        }
      ]
    },
    {
      "cell_type": "markdown",
      "source": [
        "**MENGURUTKAN DALAM SEBUAH STACK**"
      ],
      "metadata": {
        "id": "Lu9PVXzwEy3l"
      }
    },
    {
      "cell_type": "code",
      "source": [
        "def sortStack(input): # membuat definisi mengurutkan stack\n",
        "  tmpStack = [] # tmp stack dibuat kosong\n",
        "  while (len(input) > 0): # program akan berjalan jika banyaknya sort stack lebih dari 0\n",
        "\n",
        "    # menghilangkan element pertama / awal\n",
        "    tmp = input[-1]\n",
        "    input.pop()\n",
        "\n",
        "    # membuat syarat program berjalan jika stack tidak kosong dan stack\n",
        "    # tertinggi lebi kecil dari tmp\n",
        "    while (len(tmpStack) > 0 and tmpStack[-1] < tmp):\n",
        "\n",
        "      # menghilangkan tmpstack dan menambahkannya ke dalam input dari stack\n",
        "      input.append(tmpStack[-1])\n",
        "      tmpStack.pop()\n",
        "\n",
        "    # memasukkan tmp ke dalam tmpstack\n",
        "    tmpStack.append(tmp)\n",
        "\n",
        "  return tmpStack\n",
        "\n",
        "def sortArrayUsingStacks(arr, n): # membuat definisi untuk urutan himpunan stack\n",
        "\n",
        "  # memasukkan element dari himpunan ke stack\n",
        "  input = []\n",
        "  i = 0\n",
        "  while (i < n):\n",
        "    input.append(arr[i])\n",
        "    i = i + 1\n",
        "\n",
        "  # mengurutkan dari temporary stack\n",
        "  tmpStack = sortStack(input)\n",
        "  i = 0\n",
        "\n",
        "  # meletakkan element dari stack ke arrp[]\n",
        "  while (i < n):\n",
        "    arr[i] = tmpStack[-1]\n",
        "    tmpStack.pop()\n",
        "    i = i + 1\n",
        "  return arr\n",
        "\n",
        "# nilai dari array\n",
        "arr = [10, 5, 15, 45]\n",
        "n = len(arr)\n",
        "\n",
        "arr = sortArrayUsingStacks(arr, n)\n",
        "i = 0\n",
        "\n",
        "while (i < n):\n",
        "  print(arr[i], end= \" \")\n",
        "  i = i + 1"
      ],
      "metadata": {
        "colab": {
          "base_uri": "https://localhost:8080/"
        },
        "id": "4GgqazreE2Bj",
        "outputId": "346dd69e-e32a-445b-e0e0-aa60345da5a2"
      },
      "execution_count": 16,
      "outputs": [
        {
          "output_type": "stream",
          "name": "stdout",
          "text": [
            "5 10 15 45 "
          ]
        }
      ]
    },
    {
      "cell_type": "code",
      "source": [],
      "metadata": {
        "id": "Hu5xnKMSS_lH"
      },
      "execution_count": null,
      "outputs": []
    }
  ]
}