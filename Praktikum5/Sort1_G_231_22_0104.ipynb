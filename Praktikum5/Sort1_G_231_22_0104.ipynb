{
  "nbformat": 4,
  "nbformat_minor": 0,
  "metadata": {
    "colab": {
      "provenance": []
    },
    "kernelspec": {
      "name": "python3",
      "display_name": "Python 3"
    },
    "language_info": {
      "name": "python"
    }
  },
  "cells": [
    {
      "cell_type": "markdown",
      "source": [
        "**BUBBLE SORT**"
      ],
      "metadata": {
        "id": "uniRHEv3oR36"
      }
    },
    {
      "cell_type": "code",
      "execution_count": null,
      "metadata": {
        "colab": {
          "base_uri": "https://localhost:8080/"
        },
        "id": "P9rwBWagoELs",
        "outputId": "cb12d609-0214-4ed0-e2bf-f0b11b211f96"
      },
      "outputs": [
        {
          "output_type": "stream",
          "name": "stdout",
          "text": [
            "Urutan Himpunan adalah: \n",
            " 11  12  22  25  34  64  90 "
          ]
        }
      ],
      "source": [
        "#membuat defisini\n",
        "def urutan_bubble(himpunan):\n",
        "  n = len(himpunan) # n adalah variabel menghitung panjang himpunan\n",
        "  swapped = False # pertukaran dibuat false\n",
        "\n",
        "  for a in range(n-1):\n",
        "    for b in range(0, n-a-1):\n",
        "      if himpunan[b] > himpunan[b + 1]: # jika nilai index 0 lebih besar dari index 0+1\n",
        "        swapped = True # maka akan melakukan pertukaran\n",
        "        himpunan[b], himpunan[b + 1] = himpunan[b + 1], himpunan[b]\n",
        "\n",
        "    if not swapped:\n",
        "      break\n",
        "\n",
        "# Memasukkan nilai angka untuk mengetes source code diatas\n",
        "himpunan = [64, 34, 25, 12, 22, 11, 90]\n",
        "\n",
        "urutan_bubble(himpunan) # memanggil definisi\n",
        "\n",
        "# mengeprint urutan himpunan bubble sort\n",
        "print(\"Urutan Himpunan adalah: \")\n",
        "for a in range(len(himpunan)):\n",
        "  print(\"% d\" % himpunan[a], end=\" \")\n"
      ]
    },
    {
      "cell_type": "markdown",
      "source": [
        "**SELECTION SORT**"
      ],
      "metadata": {
        "id": "02SeFVqIsca5"
      }
    },
    {
      "cell_type": "code",
      "source": [
        "# memasukkan modul sys ke dalam python\n",
        "import sys\n",
        "\n",
        "# membuat variabel \"B\" dan masukkan nilai himpunannya\n",
        "B = [64,25,12,22,11]\n",
        "\n",
        "# membuat coding untuk menghasilkan selection sort\n",
        "for a in range(len(B)): # melakukan looping di setiap himpunan \"B\"\n",
        "  min_idx = a # variabel \"a\" disamadengankan dengan min_idx (nilai terkecil) untuk mencari terkecil pada himpunan\n",
        "  for c in range(a + 1, len(B)): # melakukan looping a+1 untuk mencari himpunan setelah a yang terkecil\n",
        "    if B[min_idx] > B[c]: # melakukan perbandingan nilai B[min_idx] lebih besar dari B[c] untuk menukar posisi himpunan\n",
        "      min_idx = c\n",
        "\n",
        "  B[a], B[min_idx] = B[min_idx], B[a] # menetapkan pertukarkan dari nilai awal hingga seterusnya dengan nilai yang ditukar\n",
        "\n",
        "print (\"Urutan Himpunan\")\n",
        "for a in range(len(B)):\n",
        "  print(\"%d\" % B[a], end=\" \")"
      ],
      "metadata": {
        "colab": {
          "base_uri": "https://localhost:8080/"
        },
        "id": "xGzDEqvzsbqi",
        "outputId": "cc07eae0-586a-4490-e742-97a11dc8ae2b"
      },
      "execution_count": 9,
      "outputs": [
        {
          "output_type": "stream",
          "name": "stdout",
          "text": [
            "Urutan Himpunan\n",
            "11 12 22 25 64 "
          ]
        }
      ]
    },
    {
      "cell_type": "markdown",
      "source": [
        "**INSERTION SORT**"
      ],
      "metadata": {
        "id": "xZSUITFFtzpZ"
      }
    },
    {
      "cell_type": "code",
      "source": [
        "# Membuat definisi insertion sort\n",
        "def insertSort (himpunan): # membuat definisi dari insertion sort\n",
        "  for a in range(1, len(himpunan)): # melakukan looping dari indeks 1 sampai akhir himpunan\n",
        "    key = himpunan[a] # menyimpan elemen saat ini sebagai key\n",
        "    b = a-1 # membuat variabel b = a-1 untuk nantinya membandingkan indeks a-1 dengan a\n",
        "    while b >= 0 and key < himpunan[b]: # melakukan pertukaran himpunan b ke himpunan a jika himpunan b lebih besar dari key\n",
        "      himpunan[b + 1] =  himpunan[b]\n",
        "      b -= 1\n",
        "    himpunan[b + 1] = key # tempatkan key ke posisi yang sesuai setelah iterasi\n",
        "\n",
        "# Memasukkan himpunan angka untuk mengetes source code\n",
        "himpunan = [12,11,13,5,6]\n",
        "insertSort(himpunan)\n",
        "for a in range(len(himpunan)):\n",
        "  print(\"% d\" % himpunan[a])"
      ],
      "metadata": {
        "colab": {
          "base_uri": "https://localhost:8080/"
        },
        "id": "vf6bIe37twoj",
        "outputId": "6cb5576b-bb90-4ce1-9ceb-e5ee081cd0ee"
      },
      "execution_count": 4,
      "outputs": [
        {
          "output_type": "stream",
          "name": "stdout",
          "text": [
            " 5\n",
            " 6\n",
            " 11\n",
            " 12\n",
            " 13\n"
          ]
        }
      ]
    },
    {
      "cell_type": "code",
      "source": [],
      "metadata": {
        "id": "35vKYmfStk1K"
      },
      "execution_count": null,
      "outputs": []
    }
  ]
}