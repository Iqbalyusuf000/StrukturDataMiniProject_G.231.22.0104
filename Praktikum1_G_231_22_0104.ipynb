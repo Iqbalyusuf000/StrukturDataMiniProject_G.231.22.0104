{
  "nbformat": 4,
  "nbformat_minor": 0,
  "metadata": {
    "colab": {
      "provenance": []
    },
    "kernelspec": {
      "name": "python3",
      "display_name": "Python 3"
    },
    "language_info": {
      "name": "python"
    }
  },
  "cells": [
    {
      "cell_type": "code",
      "execution_count": null,
      "metadata": {
        "colab": {
          "base_uri": "https://localhost:8080/"
        },
        "id": "lk-fxZ2adUrE",
        "outputId": "1d8525ac-fee9-48bc-c475-1612ac326dc8"
      },
      "outputs": [
        {
          "output_type": "stream",
          "name": "stdout",
          "text": [
            "List Nilai : \n",
            " [1, 2, 3, 4, 5, 6, 7, 8, 9, 10]\n",
            "\n",
            "Jumlah Nilai 5 Dalam List (count) : \n",
            " 1\n",
            "\n",
            "Menambah element dalam list (append):\n",
            "List Nilai:  [1, 2, 3, 4, 5, 6, 7, 8, 9, 10, 12, 10]\n",
            "\n",
            "Index ke 8 (index): \n",
            " 7\n",
            "\n",
            "Tambah Nilai List (Insert) : \n",
            " [1, 12, 2, 3, 4, 5, 6, 7, 8, 9, 10, 12, 10]\n",
            "\n",
            "List Nilai (pop) : \n",
            " [1, 12, 2, 3, 4, 5, 6, 7, 8, 9, 10]\n",
            "\n",
            "List Nilai (remove):\n",
            " [12, 3, 4, 5, 6, 7, 8, 9, 10]\n",
            "\n",
            "List Nilai (extend : \n",
            " [12, 3, 4, 5, 6, 7, 8, 9, 10, 4, 3, 8, 7]\n",
            "\n",
            "List Nilai (reverse) : \n",
            " [7, 8, 3, 4, 10, 9, 8, 7, 6, 5, 4, 3, 12]\n",
            "\n",
            "List Nilai (sort) : \n",
            " [3, 3, 4, 4, 5, 6, 7, 7, 8, 8, 9, 10, 12]\n",
            "\n",
            "Nilai Terbanyak (max) : \n",
            " 12\n",
            "\n",
            "Nilai Terendah (min) : \n",
            " 3\n",
            "\n",
            "Total Penjumlahan Nilai dari List_nilai (sum) : \n",
            " 86\n"
          ]
        }
      ],
      "source": [
        "# Deklarasi List\n",
        "list_nilai = [1,2,3,4,5,6,7,8,9,10]\n",
        "\n",
        "# tampilkan list\n",
        "print(\"List Nilai : \\n\", list_nilai)\n",
        "\n",
        "# menggunakan len\n",
        "print(\"\\nJumlah Nilai 5 Dalam List (count) : \\n\", list_nilai.count(5))\n",
        "\n",
        "# menggunakan append\n",
        "print (\"\\nMenambah element dalam list (append):\")\n",
        "list_nilai.append(12)\n",
        "list_nilai.append(10)\n",
        "print(\"List Nilai: \", list_nilai)\n",
        "\n",
        "# menggunakan index\n",
        "print(\"\\nIndex ke 8 (index): \\n\",list_nilai.index(8))\n",
        "\n",
        "#menggunakan insert\n",
        "list_nilai.insert(1,12)\n",
        "print(\"\\nTambah Nilai List (Insert) : \\n\",list_nilai)\n",
        "\n",
        "# menggunakan pop\n",
        "list_nilai.pop()\n",
        "list_nilai.pop()\n",
        "print(\"\\nList Nilai (pop) : \\n\",list_nilai)\n",
        "\n",
        "# menggunakan remove\n",
        "list_nilai.remove(2)\n",
        "list_nilai.remove(1)\n",
        "print(\"\\nList Nilai (remove):\\n\",list_nilai)\n",
        "\n",
        "# menggunakan extend\n",
        "list_nilai2 = [4,3,8,7]\n",
        "list_nilai.extend(list_nilai2)\n",
        "print(\"\\nList Nilai (extend : \\n\", list_nilai)\n",
        "\n",
        "# menggunakan reverse\n",
        "list_nilai.reverse()\n",
        "print(\"\\nList Nilai (reverse) : \\n\",list_nilai)\n",
        "\n",
        "# menggunakan sort\n",
        "list_nilai.sort()\n",
        "print(\"\\nList Nilai (sort) : \\n\",list_nilai)\n",
        "\n",
        "# menggunakan max\n",
        "print(\"\\nNilai Terbanyak (max) : \\n\",max(list_nilai))\n",
        "\n",
        "# menggunakan min\n",
        "print(\"\\nNilai Terendah (min) : \\n\",min(list_nilai))\n",
        "\n",
        "# menggunakan sum\n",
        "print(\"\\nTotal Penjumlahan Nilai dari List_nilai (sum) : \\n\",sum(list_nilai))"
      ]
    },
    {
      "cell_type": "code",
      "source": [],
      "metadata": {
        "id": "mm4cphOWdnHo"
      },
      "execution_count": null,
      "outputs": []
    }
  ]
}